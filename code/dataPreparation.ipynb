{
 "cells": [
  {
   "cell_type": "code",
   "execution_count": 41,
   "metadata": {
    "collapsed": true
   },
   "outputs": [],
   "source": [
    "import pandas as pd\n",
    "import numpy as np\n",
    "import random\n",
    "import matplotlib.pyplot as plt\n",
    "from sklearn.preprocessing import LabelEncoder"
   ]
  },
  {
   "cell_type": "code",
   "execution_count": 42,
   "metadata": {
    "collapsed": false,
    "scrolled": true
   },
   "outputs": [
    {
     "name": "stdout",
     "output_type": "stream",
     "text": [
      "(1000000, 48)\n",
      "(929615, 24)\n",
      "train_dtypes fecha_dato                object\n",
      "ncodpers                   int64\n",
      "ind_empleado              object\n",
      "pais_residencia           object\n",
      "sexo                      object\n",
      "age                        int64\n",
      "fecha_alta                object\n",
      "ind_nuevo                  int64\n",
      "antiguedad                 int64\n",
      "indrel                     int64\n",
      "ult_fec_cli_1t            object\n",
      "indrel_1mes               object\n",
      "tiprel_1mes               object\n",
      "indresi                   object\n",
      "indext                    object\n",
      "conyuemp                  object\n",
      "canal_entrada             object\n",
      "indfall                   object\n",
      "tipodom                    int64\n",
      "cod_prov                 float64\n",
      "nomprov                   object\n",
      "ind_actividad_cliente      int64\n",
      "renta                    float64\n",
      "segmento                  object\n",
      "ind_ahor_fin_ult1          int64\n",
      "ind_aval_fin_ult1          int64\n",
      "ind_cco_fin_ult1           int64\n",
      "ind_cder_fin_ult1          int64\n",
      "ind_cno_fin_ult1           int64\n",
      "ind_ctju_fin_ult1          int64\n",
      "ind_ctma_fin_ult1          int64\n",
      "ind_ctop_fin_ult1          int64\n",
      "ind_ctpp_fin_ult1          int64\n",
      "ind_deco_fin_ult1          int64\n",
      "ind_deme_fin_ult1          int64\n",
      "ind_dela_fin_ult1          int64\n",
      "ind_ecue_fin_ult1          int64\n",
      "ind_fond_fin_ult1          int64\n",
      "ind_hip_fin_ult1           int64\n",
      "ind_plan_fin_ult1          int64\n",
      "ind_pres_fin_ult1          int64\n",
      "ind_reca_fin_ult1          int64\n",
      "ind_tjcr_fin_ult1          int64\n",
      "ind_valo_fin_ult1          int64\n",
      "ind_viv_fin_ult1           int64\n",
      "ind_nomina_ult1            int64\n",
      "ind_nom_pens_ult1          int64\n",
      "ind_recibo_ult1            int64\n",
      "dtype: object\n"
     ]
    }
   ],
   "source": [
    "##load data:\n",
    "train_file = '../data/sample_train.csv'\n",
    "test_file = '../data/test_ver2.csv'\n",
    "train = pd.read_csv(train_file)\n",
    "test = pd.read_csv(test_file)\n",
    "print train.shape\n",
    "print test.shape\n",
    "print 'train_dtypes',train.dtypes\n",
    "#print 'test_dtypes',test.dtypes"
   ]
  },
  {
   "cell_type": "code",
   "execution_count": 43,
   "metadata": {
    "collapsed": false
   },
   "outputs": [],
   "source": [
    "## get the title\n",
    "fp=open('../data/train_ver2.csv','r')\n",
    "first_line = fp.readline()\n",
    "line_title=first_line.strip().split(',')\n",
    "title = []\n",
    "for var in line_title:\n",
    "    title.append(var.strip('\\\"'))\n",
    "fp.close()\n",
    "target = title[24:]\n",
    "features_object = ['ind_empleado','pais_residencia','sexo',\n",
    "'ind_nuevo','indrel','indrel_1mes','tiprel_1mes',\n",
    "'indresi','indext','conyuemp','canal_entrada',\n",
    "'indfall','tipodom','cod_prov','ind_actividad_cliente',\n",
    "'segmento']"
   ]
  },
  {
   "cell_type": "code",
   "execution_count": 44,
   "metadata": {
    "collapsed": false,
    "scrolled": true
   },
   "outputs": [
    {
     "name": "stdout",
     "output_type": "stream",
     "text": [
      "age                            0\n",
      "antiguedad                     0\n",
      "canal_entrada              10232\n",
      "cod_prov                    8372\n",
      "conyuemp                 1929387\n",
      "fecha_alta                     0\n",
      "fecha_dato                     0\n",
      "ind_actividad_cliente          0\n",
      "ind_ahor_fin_ult1         929615\n",
      "ind_aval_fin_ult1         929615\n",
      "ind_cco_fin_ult1          929615\n",
      "ind_cder_fin_ult1         929615\n",
      "ind_cno_fin_ult1          929615\n",
      "ind_ctju_fin_ult1         929615\n",
      "ind_ctma_fin_ult1         929615\n",
      "ind_ctop_fin_ult1         929615\n",
      "ind_ctpp_fin_ult1         929615\n",
      "ind_deco_fin_ult1         929615\n",
      "ind_dela_fin_ult1         929615\n",
      "ind_deme_fin_ult1         929615\n",
      "ind_ecue_fin_ult1         929615\n",
      "ind_empleado                   0\n",
      "ind_fond_fin_ult1         929615\n",
      "ind_hip_fin_ult1          929615\n",
      "ind_nom_pens_ult1         929615\n",
      "ind_nomina_ult1           929615\n",
      "ind_nuevo                      0\n",
      "ind_plan_fin_ult1         929615\n",
      "ind_pres_fin_ult1         929615\n",
      "ind_reca_fin_ult1         929615\n",
      "ind_recibo_ult1           929615\n",
      "ind_tjcr_fin_ult1         929615\n",
      "ind_valo_fin_ult1         929615\n",
      "ind_viv_fin_ult1          929615\n",
      "indext                         0\n",
      "indfall                        0\n",
      "indrel                         0\n",
      "indrel_1mes                 5053\n",
      "indresi                        0\n",
      "ncodpers                       0\n",
      "nomprov                     8372\n",
      "pais_residencia                0\n",
      "renta                     242051\n",
      "segmento                   10733\n",
      "sexo                           9\n",
      "source                         0\n",
      "tipodom                        0\n",
      "tiprel_1mes                 5053\n",
      "ult_fec_cli_1t           1926131\n",
      "dtype: int64\n"
     ]
    }
   ],
   "source": [
    "## Combine into data:\n",
    "train['source'] = 'train'\n",
    "test['source'] = 'test'\n",
    "data = pd.concat([train,test],ignore_index = True)\n",
    "## the number of each missing feature\n",
    "print data.apply(lambda x:sum(x.isnull()))"
   ]
  },
  {
   "cell_type": "code",
   "execution_count": 45,
   "metadata": {
    "collapsed": false,
    "scrolled": true
   },
   "outputs": [
    {
     "name": "stdout",
     "output_type": "stream",
     "text": [
      "\n",
      "Frequency count for variable ind_empleado\n",
      "N    1928520\n",
      "B        453\n",
      "F        325\n",
      "A        316\n",
      "S          1\n",
      "Name: ind_empleado, dtype: int64\n",
      "\n",
      "Frequency count for variable pais_residencia\n",
      "ES    1921246\n",
      "FR        648\n",
      "AR        598\n",
      "DE        598\n",
      "GB        579\n",
      "US        488\n",
      "CO        444\n",
      "RO        364\n",
      "IT        364\n",
      "BR        310\n",
      "MX        307\n",
      "VE        283\n",
      "EC        269\n",
      "CH        252\n",
      "BO        191\n",
      "BE        187\n",
      "PT        181\n",
      "PY        171\n",
      "CL        120\n",
      "PE        114\n",
      "CU        103\n",
      "NL        101\n",
      "RU         99\n",
      "PL         87\n",
      "SE         79\n",
      "AT         71\n",
      "CN         69\n",
      "UY         62\n",
      "UA         61\n",
      "BG         59\n",
      "       ...   \n",
      "JM          4\n",
      "BA          4\n",
      "RS          4\n",
      "LV          4\n",
      "LB          4\n",
      "CF          4\n",
      "GH          3\n",
      "IS          3\n",
      "GI          3\n",
      "MM          3\n",
      "GM          3\n",
      "OM          3\n",
      "KH          3\n",
      "CG          3\n",
      "AL          3\n",
      "TN          3\n",
      "TW          3\n",
      "KW          3\n",
      "ZW          2\n",
      "TG          2\n",
      "BM          2\n",
      "MT          2\n",
      "LY          2\n",
      "BZ          2\n",
      "DJ          2\n",
      "KZ          2\n",
      "SL          1\n",
      "CD          1\n",
      "GE          1\n",
      "ML          1\n",
      "Name: pais_residencia, dtype: int64\n",
      "\n",
      "Frequency count for variable sexo\n",
      "V    1048100\n",
      "H     881506\n",
      "Name: sexo, dtype: int64\n",
      "\n",
      "Frequency count for variable ind_nuevo\n",
      "0    1839419\n",
      "1      90196\n",
      "Name: ind_nuevo, dtype: int64\n",
      "\n",
      "Frequency count for variable indrel\n",
      "1     1926131\n",
      "99       3484\n",
      "Name: indrel, dtype: int64\n",
      "\n",
      "Frequency count for variable indrel_1mes\n",
      "1.0    1305522\n",
      "1.0     401304\n",
      "1       217084\n",
      "3.0        179\n",
      "3.0        140\n",
      "3           93\n",
      "P           82\n",
      "2.0         48\n",
      "2.0         45\n",
      "2           40\n",
      "4.0         11\n",
      "4.0          8\n",
      "4            6\n",
      "Name: indrel_1mes, dtype: int64\n",
      "\n",
      "Frequency count for variable tiprel_1mes\n",
      "I    1107588\n",
      "A     816455\n",
      "P        437\n",
      "R         80\n",
      "N          2\n",
      "Name: tiprel_1mes, dtype: int64\n",
      "\n",
      "Frequency count for variable indresi\n",
      "S    1921248\n",
      "N       8367\n",
      "Name: indresi, dtype: int64\n",
      "\n",
      "Frequency count for variable indext\n",
      "N    1834145\n",
      "S      95470\n",
      "Name: indext, dtype: int64\n",
      "\n",
      "Frequency count for variable conyuemp\n",
      "N    225\n",
      "S      3\n",
      "Name: conyuemp, dtype: int64\n",
      "\n",
      "Frequency count for variable canal_entrada\n",
      "KHE    516103\n",
      "KAT    431616\n",
      "KFC    419267\n",
      "KHQ    157585\n",
      "KHM     62954\n",
      "KFA     53700\n",
      "KHN     34793\n",
      "KHK     34339\n",
      "KHD     15534\n",
      "RED     12408\n",
      "KAS     11812\n",
      "KAG      9825\n",
      "KAY      9343\n",
      "KAA      9056\n",
      "KAB      8460\n",
      "KAE      6962\n",
      "KCC      6537\n",
      "KBZ      6357\n",
      "KFD      6205\n",
      "KHL      6135\n",
      "KAI      5119\n",
      "KEY      4755\n",
      "KAW      4629\n",
      "KAR      4515\n",
      "KAZ      4469\n",
      "007      4461\n",
      "KAF      4014\n",
      "KCI      3734\n",
      "KAJ      3573\n",
      "KCH      3456\n",
      "        ...  \n",
      "004        30\n",
      "KDH        29\n",
      "KCJ        28\n",
      "KDN        27\n",
      "KEQ        25\n",
      "KCP        24\n",
      "KHS        23\n",
      "KCT        23\n",
      "KCQ        22\n",
      "KEE        21\n",
      "K00        20\n",
      "KBE        19\n",
      "KCR        19\n",
      "KFB        15\n",
      "KAV        12\n",
      "KBX        12\n",
      "KBN        11\n",
      "KCX        11\n",
      "KBP         9\n",
      "KFV         9\n",
      "KHA         9\n",
      "KEM         8\n",
      "KGC         5\n",
      "KGN         4\n",
      "KGU         3\n",
      "KHR         2\n",
      "KDI         2\n",
      "025         2\n",
      "KDL         1\n",
      "KDB         1\n",
      "Name: canal_entrada, dtype: int64\n",
      "\n",
      "Frequency count for variable indfall\n",
      "N    1924659\n",
      "S       4956\n",
      "Name: indfall, dtype: int64\n",
      "\n",
      "Frequency count for variable tipodom\n",
      "1    1929615\n",
      "Name: tipodom, dtype: int64\n",
      "\n",
      "Frequency count for variable cod_prov\n",
      "28    621062\n",
      "8     184668\n",
      "46     98602\n",
      "41     83970\n",
      "15     59410\n",
      "30     57318\n",
      "29     50607\n",
      "50     48079\n",
      "3      45893\n",
      "11     40941\n",
      "36     39226\n",
      "33     37576\n",
      "35     33796\n",
      "47     33242\n",
      "6      26836\n",
      "48     26144\n",
      "45     26111\n",
      "18     25588\n",
      "37     23163\n",
      "39     22337\n",
      "14     20514\n",
      "7      18968\n",
      "10     17886\n",
      "13     16975\n",
      "21     16485\n",
      "2      15967\n",
      "43     15898\n",
      "12     14756\n",
      "9      13805\n",
      "17     13065\n",
      "31     12484\n",
      "26     12072\n",
      "24     11922\n",
      "27     11631\n",
      "32     11477\n",
      "25     11263\n",
      "38     10549\n",
      "20     10256\n",
      "19      9667\n",
      "23      9342\n",
      "4       8982\n",
      "16      7803\n",
      "49      7170\n",
      "34      6923\n",
      "40      6062\n",
      "22      5740\n",
      "5       5424\n",
      "1       5403\n",
      "44      3172\n",
      "42      2617\n",
      "52      1338\n",
      "51      1058\n",
      "Name: cod_prov, dtype: int64\n",
      "\n",
      "Frequency count for variable ind_actividad_cliente\n",
      "0    1108491\n",
      "1     821124\n",
      "Name: ind_actividad_cliente, dtype: int64\n",
      "\n",
      "Frequency count for variable segmento\n",
      "02 - PARTICULARES     1131010\n",
      "03 - UNIVERSITARIO     714137\n",
      "01 - TOP                73735\n",
      "Name: segmento, dtype: int64\n"
     ]
    }
   ],
   "source": [
    "for v in features_object:\n",
    "    print '\\nFrequency count for variable %s'%v\n",
    "    print data[v].value_counts()"
   ]
  },
  {
   "cell_type": "code",
   "execution_count": 46,
   "metadata": {
    "collapsed": false
   },
   "outputs": [
    {
     "name": "stdout",
     "output_type": "stream",
     "text": [
      "KHE       516103\n",
      "KAT       431616\n",
      "KFC       419267\n",
      "others    405044\n",
      "KHQ       157585\n",
      "Name: canal_entrada, dtype: int64\n"
     ]
    }
   ],
   "source": [
    "## canal_entrada missing 10232\n",
    "cannal_entrada_primary = ['KHE','KAT','KFC','KHQ']\n",
    "data['canal_entrada'] = data['canal_entrada'].apply(lambda x : 'others' if x not in cannal_entrada_primary else x)\n",
    "print data['canal_entrada'].value_counts()"
   ]
  },
  {
   "cell_type": "code",
   "execution_count": 47,
   "metadata": {
    "collapsed": false
   },
   "outputs": [
    {
     "name": "stdout",
     "output_type": "stream",
     "text": [
      "-1     773978\n",
      " 28    621062\n",
      " 8     184668\n",
      " 46     98602\n",
      " 41     83970\n",
      " 15     59410\n",
      " 30     57318\n",
      " 29     50607\n",
      "Name: cod_prov, dtype: int64\n"
     ]
    }
   ],
   "source": [
    "## cod_prov == nomprov / using cod_prov\n",
    "cod_prov_primary = [28,8,46,41,15,30,29]\n",
    "data['cod_prov'] = data['cod_prov'].apply(lambda x : -1 if x not in cod_prov_primary else x)\n",
    "print data['cod_prov'].value_counts()\n",
    "data.drop('nomprov',axis = 1,inplace = True)"
   ]
  },
  {
   "cell_type": "code",
   "execution_count": 48,
   "metadata": {
    "collapsed": false
   },
   "outputs": [
    {
     "name": "stdout",
     "output_type": "stream",
     "text": [
      "  conyuemp  conyuemp_missing\n",
      "0      NaN                 1\n",
      "1      NaN                 1\n",
      "2      NaN                 1\n",
      "3      NaN                 1\n",
      "4      NaN                 1\n",
      "5      NaN                 1\n",
      "6      NaN                 1\n",
      "7      NaN                 1\n",
      "8      NaN                 1\n",
      "9      NaN                 1\n",
      "1    1929387\n",
      "0        228\n",
      "Name: conyuemp_missing, dtype: int64\n"
     ]
    }
   ],
   "source": [
    "## conyuemp\n",
    "data['conyuemp_missing'] = data['conyuemp'].apply(lambda x:1 if pd.isnull(x) else 0)\n",
    "print data[['conyuemp','conyuemp_missing']].head(10)\n",
    "data.drop('conyuemp',axis = 1, inplace = True)\n",
    "print data['conyuemp_missing'].value_counts()"
   ]
  },
  {
   "cell_type": "code",
   "execution_count": 49,
   "metadata": {
    "collapsed": true
   },
   "outputs": [],
   "source": [
    "features_object.remove('conyuemp')\n",
    "features_object.append('conyuemp_missing')"
   ]
  },
  {
   "cell_type": "code",
   "execution_count": 50,
   "metadata": {
    "collapsed": false
   },
   "outputs": [
    {
     "name": "stdout",
     "output_type": "stream",
     "text": [
      "0    24\n",
      "1    24\n",
      "2    24\n",
      "3    24\n",
      "4    24\n",
      "Name: fecha_alta_years, dtype: int64\n"
     ]
    }
   ],
   "source": [
    "data['fecha_alta_years'] = data['fecha_alta'].apply(lambda x:int(x[0:4]) - 1990)\n",
    "print data['fecha_alta_years'].head()\n",
    "data.drop('fecha_alta', axis = 1, inplace = True)"
   ]
  },
  {
   "cell_type": "code",
   "execution_count": 51,
   "metadata": {
    "collapsed": false
   },
   "outputs": [
    {
     "name": "stdout",
     "output_type": "stream",
     "text": [
      "0    2\n",
      "1    2\n",
      "2    2\n",
      "3    2\n",
      "4    2\n",
      "Name: fecha_years, dtype: int64\n"
     ]
    }
   ],
   "source": [
    "## fecha_dato\n",
    "data['fecha_dato_years'] = data['fecha_dato'].apply(lambda x:int(x[0:4])-1990)\n",
    "data['fecha_years'] = data['fecha_dato_years']-data['fecha_alta_years']\n",
    "print data['fecha_years'].head()"
   ]
  },
  {
   "cell_type": "code",
   "execution_count": 52,
   "metadata": {
    "collapsed": false
   },
   "outputs": [],
   "source": [
    "data.drop(['fecha_dato','fecha_dato_years','fecha_alta_years'],axis = 1,inplace = True)"
   ]
  },
  {
   "cell_type": "code",
   "execution_count": 53,
   "metadata": {
    "collapsed": false
   },
   "outputs": [
    {
     "name": "stdout",
     "output_type": "stream",
     "text": [
      "0     N\n",
      "1     N\n",
      "2     N\n",
      "3     N\n",
      "4     N\n",
      "5     N\n",
      "6     N\n",
      "7     N\n",
      "8     N\n",
      "9     N\n",
      "10    N\n",
      "11    N\n",
      "12    N\n",
      "13    N\n",
      "14    N\n",
      "15    N\n",
      "16    N\n",
      "17    N\n",
      "18    N\n",
      "19    N\n",
      "Name: ind_empleado, dtype: object\n"
     ]
    }
   ],
   "source": [
    "## ind_empleado N,B,F,A,S -> N,others\n",
    "data['ind_empleado'] = data['ind_empleado'].apply(lambda x: 'others' if x != 'N' else x)\n",
    "print data['ind_empleado'].head(20)"
   ]
  },
  {
   "cell_type": "code",
   "execution_count": 54,
   "metadata": {
    "collapsed": false
   },
   "outputs": [
    {
     "data": {
      "text/plain": [
       "N         1928520\n",
       "others       1095\n",
       "Name: ind_empleado, dtype: int64"
      ]
     },
     "execution_count": 54,
     "metadata": {},
     "output_type": "execute_result"
    }
   ],
   "source": [
    "data['ind_empleado'].value_counts()"
   ]
  },
  {
   "cell_type": "code",
   "execution_count": 55,
   "metadata": {
    "collapsed": true
   },
   "outputs": [],
   "source": [
    "#indrel_1mes\n",
    "data['indrel_1mes'].fillna('NAN',inplace = True)\n",
    "indrel_1mes_features_pnan = ['P','NAN']\n",
    "data['indrel_1mes'] = data['indrel_1mes'].apply(lambda x: int(float(x)) if x not in indrel_1mes_features_pnan else x)\n",
    "indrel_1mes_features_test = [1,3,'NAN']\n",
    "data['indrel_1mes'] = data['indrel_1mes'].apply(lambda x: 'others' if x not in indrel_1mes_features_test else x)"
   ]
  },
  {
   "cell_type": "code",
   "execution_count": 56,
   "metadata": {
    "collapsed": false
   },
   "outputs": [
    {
     "data": {
      "text/plain": [
       "ES        1921246\n",
       "others       8369\n",
       "Name: pais_residencia, dtype: int64"
      ]
     },
     "execution_count": 56,
     "metadata": {},
     "output_type": "execute_result"
    }
   ],
   "source": [
    "#pais_residencia\n",
    "data['pais_residencia'] = data['pais_residencia'].apply(lambda x: 'others' if x!= 'ES' else x)\n",
    "data['pais_residencia'].value_counts()"
   ]
  },
  {
   "cell_type": "code",
   "execution_count": 57,
   "metadata": {
    "collapsed": false
   },
   "outputs": [],
   "source": [
    "## renta\n",
    "renta_median = train['renta'].median()\n",
    "data['renta'] = data['renta'].apply(lambda x: renta_median if str(x).strip()== 'NA' or pd.isnull(x) else float(x))"
   ]
  },
  {
   "cell_type": "code",
   "execution_count": 58,
   "metadata": {
    "collapsed": false
   },
   "outputs": [
    {
     "data": {
      "text/plain": [
       "02 - PARTICULARES     1131010\n",
       "03 - UNIVERSITARIO     714137\n",
       "01 - TOP                73735\n",
       "others                  10733\n",
       "Name: segmento, dtype: int64"
      ]
     },
     "execution_count": 58,
     "metadata": {},
     "output_type": "execute_result"
    }
   ],
   "source": [
    "#segmento\n",
    "data['segmento'] = data['segmento'].apply(lambda x:'others' if pd.isnull(x)else x)\n",
    "data['segmento'].value_counts()"
   ]
  },
  {
   "cell_type": "code",
   "execution_count": 59,
   "metadata": {
    "collapsed": true
   },
   "outputs": [],
   "source": [
    "#sexo\n",
    "sexo_majority = ['V','H']\n",
    "data['sexo'].fillna(sexo_majority[random.randint(0,1)],inplace = True)"
   ]
  },
  {
   "cell_type": "code",
   "execution_count": 60,
   "metadata": {
    "collapsed": true
   },
   "outputs": [],
   "source": [
    "#tipodom\n",
    "data.drop('tipodom',axis = 1,inplace = True)"
   ]
  },
  {
   "cell_type": "code",
   "execution_count": 61,
   "metadata": {
    "collapsed": true
   },
   "outputs": [],
   "source": [
    "features_object.remove('tipodom')"
   ]
  },
  {
   "cell_type": "code",
   "execution_count": 62,
   "metadata": {
    "collapsed": false
   },
   "outputs": [],
   "source": [
    "#tiprel_1mes\n",
    "tiprel_1mes_majority = ['I','A']\n",
    "data['tiprel_1mes'].fillna(tiprel_1mes_majority[random.randint(0,1)],inplace = True)"
   ]
  },
  {
   "cell_type": "code",
   "execution_count": 63,
   "metadata": {
    "collapsed": true
   },
   "outputs": [],
   "source": [
    "#ult_fec_cli_1t\n",
    "data.drop('ult_fec_cli_1t',axis = 1,inplace = True)"
   ]
  },
  {
   "cell_type": "code",
   "execution_count": 64,
   "metadata": {
    "collapsed": false
   },
   "outputs": [
    {
     "data": {
      "text/plain": [
       "age                           0\n",
       "antiguedad                    0\n",
       "canal_entrada                 0\n",
       "cod_prov                      0\n",
       "ind_actividad_cliente         0\n",
       "ind_ahor_fin_ult1        929615\n",
       "ind_aval_fin_ult1        929615\n",
       "ind_cco_fin_ult1         929615\n",
       "ind_cder_fin_ult1        929615\n",
       "ind_cno_fin_ult1         929615\n",
       "ind_ctju_fin_ult1        929615\n",
       "ind_ctma_fin_ult1        929615\n",
       "ind_ctop_fin_ult1        929615\n",
       "ind_ctpp_fin_ult1        929615\n",
       "ind_deco_fin_ult1        929615\n",
       "ind_dela_fin_ult1        929615\n",
       "ind_deme_fin_ult1        929615\n",
       "ind_ecue_fin_ult1        929615\n",
       "ind_empleado                  0\n",
       "ind_fond_fin_ult1        929615\n",
       "ind_hip_fin_ult1         929615\n",
       "ind_nom_pens_ult1        929615\n",
       "ind_nomina_ult1          929615\n",
       "ind_nuevo                     0\n",
       "ind_plan_fin_ult1        929615\n",
       "ind_pres_fin_ult1        929615\n",
       "ind_reca_fin_ult1        929615\n",
       "ind_recibo_ult1          929615\n",
       "ind_tjcr_fin_ult1        929615\n",
       "ind_valo_fin_ult1        929615\n",
       "ind_viv_fin_ult1         929615\n",
       "indext                        0\n",
       "indfall                       0\n",
       "indrel                        0\n",
       "indrel_1mes                   0\n",
       "indresi                       0\n",
       "ncodpers                      0\n",
       "pais_residencia               0\n",
       "renta                         0\n",
       "segmento                      0\n",
       "sexo                          0\n",
       "source                        0\n",
       "tiprel_1mes                   0\n",
       "conyuemp_missing              0\n",
       "fecha_years                   0\n",
       "dtype: int64"
      ]
     },
     "execution_count": 64,
     "metadata": {},
     "output_type": "execute_result"
    }
   ],
   "source": [
    "data.apply(lambda x:sum(x.isnull()))"
   ]
  },
  {
   "cell_type": "code",
   "execution_count": 65,
   "metadata": {
    "collapsed": false
   },
   "outputs": [],
   "source": [
    "## Numerical Coding\n",
    "le = LabelEncoder()\n",
    "for col in features_object:\n",
    "    data[col] = le.fit_transform(data[col])"
   ]
  },
  {
   "cell_type": "code",
   "execution_count": 66,
   "metadata": {
    "collapsed": false
   },
   "outputs": [
    {
     "data": {
      "text/plain": [
       "Index([u'age', u'antiguedad', u'ind_ahor_fin_ult1', u'ind_aval_fin_ult1',\n",
       "       u'ind_cco_fin_ult1', u'ind_cder_fin_ult1', u'ind_cno_fin_ult1',\n",
       "       u'ind_ctju_fin_ult1', u'ind_ctma_fin_ult1', u'ind_ctop_fin_ult1',\n",
       "       u'ind_ctpp_fin_ult1', u'ind_deco_fin_ult1', u'ind_dela_fin_ult1',\n",
       "       u'ind_deme_fin_ult1', u'ind_ecue_fin_ult1', u'ind_fond_fin_ult1',\n",
       "       u'ind_hip_fin_ult1', u'ind_nom_pens_ult1', u'ind_nomina_ult1',\n",
       "       u'ind_plan_fin_ult1', u'ind_pres_fin_ult1', u'ind_reca_fin_ult1',\n",
       "       u'ind_recibo_ult1', u'ind_tjcr_fin_ult1', u'ind_valo_fin_ult1',\n",
       "       u'ind_viv_fin_ult1', u'ncodpers', u'renta', u'source', u'fecha_years',\n",
       "       u'ind_empleado_0', u'ind_empleado_1', u'pais_residencia_0',\n",
       "       u'pais_residencia_1', u'sexo_0', u'sexo_1', u'ind_nuevo_0',\n",
       "       u'ind_nuevo_1', u'indrel_0', u'indrel_1', u'indrel_1mes_0',\n",
       "       u'indrel_1mes_1', u'indrel_1mes_2', u'indrel_1mes_3', u'tiprel_1mes_0',\n",
       "       u'tiprel_1mes_1', u'tiprel_1mes_2', u'tiprel_1mes_3', u'tiprel_1mes_4',\n",
       "       u'indresi_0', u'indresi_1', u'indext_0', u'indext_1',\n",
       "       u'canal_entrada_0', u'canal_entrada_1', u'canal_entrada_2',\n",
       "       u'canal_entrada_3', u'canal_entrada_4', u'indfall_0', u'indfall_1',\n",
       "       u'cod_prov_0', u'cod_prov_1', u'cod_prov_2', u'cod_prov_3',\n",
       "       u'cod_prov_4', u'cod_prov_5', u'cod_prov_6', u'cod_prov_7',\n",
       "       u'ind_actividad_cliente_0', u'ind_actividad_cliente_1', u'segmento_0',\n",
       "       u'segmento_1', u'segmento_2', u'segmento_3', u'conyuemp_missing_0',\n",
       "       u'conyuemp_missing_1'],\n",
       "      dtype='object')"
      ]
     },
     "execution_count": 66,
     "metadata": {},
     "output_type": "execute_result"
    }
   ],
   "source": [
    "## One-Hot Coding\n",
    "data = pd.get_dummies(data, columns=features_object)\n",
    "data.columns"
   ]
  },
  {
   "cell_type": "code",
   "execution_count": 67,
   "metadata": {
    "collapsed": true
   },
   "outputs": [],
   "source": [
    "## Separate train & test:\n",
    "train = data.loc[data['source']=='train']\n",
    "test = data.loc[data['source']=='test']"
   ]
  },
  {
   "cell_type": "code",
   "execution_count": 68,
   "metadata": {
    "collapsed": false
   },
   "outputs": [
    {
     "name": "stderr",
     "output_type": "stream",
     "text": [
      "D:\\Anaconda2\\lib\\site-packages\\ipykernel\\__main__.py:1: SettingWithCopyWarning: \n",
      "A value is trying to be set on a copy of a slice from a DataFrame\n",
      "\n",
      "See the caveats in the documentation: http://pandas.pydata.org/pandas-docs/stable/indexing.html#indexing-view-versus-copy\n",
      "  if __name__ == '__main__':\n",
      "D:\\Anaconda2\\lib\\site-packages\\ipykernel\\__main__.py:2: SettingWithCopyWarning: \n",
      "A value is trying to be set on a copy of a slice from a DataFrame\n",
      "\n",
      "See the caveats in the documentation: http://pandas.pydata.org/pandas-docs/stable/indexing.html#indexing-view-versus-copy\n",
      "  from ipykernel import kernelapp as app\n",
      "D:\\Anaconda2\\lib\\site-packages\\ipykernel\\__main__.py:3: SettingWithCopyWarning: \n",
      "A value is trying to be set on a copy of a slice from a DataFrame\n",
      "\n",
      "See the caveats in the documentation: http://pandas.pydata.org/pandas-docs/stable/indexing.html#indexing-view-versus-copy\n",
      "  app.launch_new_instance()\n"
     ]
    }
   ],
   "source": [
    "train.drop('source',axis=1,inplace=True)\n",
    "test.drop(['source'],axis=1,inplace=True)\n",
    "test.drop(target,axis = 1,inplace = True)"
   ]
  },
  {
   "cell_type": "code",
   "execution_count": 69,
   "metadata": {
    "collapsed": false
   },
   "outputs": [
    {
     "data": {
      "text/html": [
       "<div>\n",
       "<table border=\"1\" class=\"dataframe\">\n",
       "  <thead>\n",
       "    <tr style=\"text-align: right;\">\n",
       "      <th></th>\n",
       "      <th>age</th>\n",
       "      <th>antiguedad</th>\n",
       "      <th>ncodpers</th>\n",
       "      <th>renta</th>\n",
       "      <th>fecha_years</th>\n",
       "      <th>ind_empleado_0</th>\n",
       "      <th>ind_empleado_1</th>\n",
       "      <th>pais_residencia_0</th>\n",
       "      <th>pais_residencia_1</th>\n",
       "      <th>sexo_0</th>\n",
       "      <th>...</th>\n",
       "      <th>cod_prov_6</th>\n",
       "      <th>cod_prov_7</th>\n",
       "      <th>ind_actividad_cliente_0</th>\n",
       "      <th>ind_actividad_cliente_1</th>\n",
       "      <th>segmento_0</th>\n",
       "      <th>segmento_1</th>\n",
       "      <th>segmento_2</th>\n",
       "      <th>segmento_3</th>\n",
       "      <th>conyuemp_missing_0</th>\n",
       "      <th>conyuemp_missing_1</th>\n",
       "    </tr>\n",
       "  </thead>\n",
       "  <tbody>\n",
       "    <tr>\n",
       "      <th>1000000</th>\n",
       "      <td>56</td>\n",
       "      <td>256</td>\n",
       "      <td>15889</td>\n",
       "      <td>326124.90</td>\n",
       "      <td>21</td>\n",
       "      <td>0</td>\n",
       "      <td>1</td>\n",
       "      <td>1</td>\n",
       "      <td>0</td>\n",
       "      <td>0</td>\n",
       "      <td>...</td>\n",
       "      <td>0</td>\n",
       "      <td>0</td>\n",
       "      <td>0</td>\n",
       "      <td>1</td>\n",
       "      <td>1</td>\n",
       "      <td>0</td>\n",
       "      <td>0</td>\n",
       "      <td>0</td>\n",
       "      <td>1</td>\n",
       "      <td>0</td>\n",
       "    </tr>\n",
       "    <tr>\n",
       "      <th>1000001</th>\n",
       "      <td>36</td>\n",
       "      <td>34</td>\n",
       "      <td>1170544</td>\n",
       "      <td>101727.81</td>\n",
       "      <td>3</td>\n",
       "      <td>1</td>\n",
       "      <td>0</td>\n",
       "      <td>1</td>\n",
       "      <td>0</td>\n",
       "      <td>1</td>\n",
       "      <td>...</td>\n",
       "      <td>0</td>\n",
       "      <td>0</td>\n",
       "      <td>1</td>\n",
       "      <td>0</td>\n",
       "      <td>0</td>\n",
       "      <td>1</td>\n",
       "      <td>0</td>\n",
       "      <td>0</td>\n",
       "      <td>0</td>\n",
       "      <td>1</td>\n",
       "    </tr>\n",
       "    <tr>\n",
       "      <th>1000002</th>\n",
       "      <td>22</td>\n",
       "      <td>34</td>\n",
       "      <td>1170545</td>\n",
       "      <td>101727.81</td>\n",
       "      <td>3</td>\n",
       "      <td>1</td>\n",
       "      <td>0</td>\n",
       "      <td>1</td>\n",
       "      <td>0</td>\n",
       "      <td>0</td>\n",
       "      <td>...</td>\n",
       "      <td>0</td>\n",
       "      <td>0</td>\n",
       "      <td>0</td>\n",
       "      <td>1</td>\n",
       "      <td>0</td>\n",
       "      <td>0</td>\n",
       "      <td>1</td>\n",
       "      <td>0</td>\n",
       "      <td>0</td>\n",
       "      <td>1</td>\n",
       "    </tr>\n",
       "    <tr>\n",
       "      <th>1000003</th>\n",
       "      <td>22</td>\n",
       "      <td>34</td>\n",
       "      <td>1170547</td>\n",
       "      <td>148402.98</td>\n",
       "      <td>3</td>\n",
       "      <td>1</td>\n",
       "      <td>0</td>\n",
       "      <td>1</td>\n",
       "      <td>0</td>\n",
       "      <td>1</td>\n",
       "      <td>...</td>\n",
       "      <td>0</td>\n",
       "      <td>0</td>\n",
       "      <td>1</td>\n",
       "      <td>0</td>\n",
       "      <td>0</td>\n",
       "      <td>0</td>\n",
       "      <td>1</td>\n",
       "      <td>0</td>\n",
       "      <td>0</td>\n",
       "      <td>1</td>\n",
       "    </tr>\n",
       "    <tr>\n",
       "      <th>1000004</th>\n",
       "      <td>22</td>\n",
       "      <td>34</td>\n",
       "      <td>1170548</td>\n",
       "      <td>106885.80</td>\n",
       "      <td>3</td>\n",
       "      <td>1</td>\n",
       "      <td>0</td>\n",
       "      <td>1</td>\n",
       "      <td>0</td>\n",
       "      <td>1</td>\n",
       "      <td>...</td>\n",
       "      <td>0</td>\n",
       "      <td>0</td>\n",
       "      <td>1</td>\n",
       "      <td>0</td>\n",
       "      <td>0</td>\n",
       "      <td>0</td>\n",
       "      <td>1</td>\n",
       "      <td>0</td>\n",
       "      <td>0</td>\n",
       "      <td>1</td>\n",
       "    </tr>\n",
       "  </tbody>\n",
       "</table>\n",
       "<p>5 rows × 51 columns</p>\n",
       "</div>"
      ],
      "text/plain": [
       "         age  antiguedad  ncodpers      renta  fecha_years  ind_empleado_0  \\\n",
       "1000000   56         256     15889  326124.90           21               0   \n",
       "1000001   36          34   1170544  101727.81            3               1   \n",
       "1000002   22          34   1170545  101727.81            3               1   \n",
       "1000003   22          34   1170547  148402.98            3               1   \n",
       "1000004   22          34   1170548  106885.80            3               1   \n",
       "\n",
       "         ind_empleado_1  pais_residencia_0  pais_residencia_1  sexo_0  \\\n",
       "1000000               1                  1                  0       0   \n",
       "1000001               0                  1                  0       1   \n",
       "1000002               0                  1                  0       0   \n",
       "1000003               0                  1                  0       1   \n",
       "1000004               0                  1                  0       1   \n",
       "\n",
       "                ...          cod_prov_6  cod_prov_7  ind_actividad_cliente_0  \\\n",
       "1000000         ...                   0           0                        0   \n",
       "1000001         ...                   0           0                        1   \n",
       "1000002         ...                   0           0                        0   \n",
       "1000003         ...                   0           0                        1   \n",
       "1000004         ...                   0           0                        1   \n",
       "\n",
       "         ind_actividad_cliente_1  segmento_0  segmento_1  segmento_2  \\\n",
       "1000000                        1           1           0           0   \n",
       "1000001                        0           0           1           0   \n",
       "1000002                        1           0           0           1   \n",
       "1000003                        0           0           0           1   \n",
       "1000004                        0           0           0           1   \n",
       "\n",
       "         segmento_3  conyuemp_missing_0  conyuemp_missing_1  \n",
       "1000000           0                   1                   0  \n",
       "1000001           0                   0                   1  \n",
       "1000002           0                   0                   1  \n",
       "1000003           0                   0                   1  \n",
       "1000004           0                   0                   1  \n",
       "\n",
       "[5 rows x 51 columns]"
      ]
     },
     "execution_count": 69,
     "metadata": {},
     "output_type": "execute_result"
    }
   ],
   "source": [
    "test.head()"
   ]
  },
  {
   "cell_type": "code",
   "execution_count": 70,
   "metadata": {
    "collapsed": false
   },
   "outputs": [
    {
     "data": {
      "text/html": [
       "<div>\n",
       "<table border=\"1\" class=\"dataframe\">\n",
       "  <thead>\n",
       "    <tr style=\"text-align: right;\">\n",
       "      <th></th>\n",
       "      <th>age</th>\n",
       "      <th>antiguedad</th>\n",
       "      <th>ind_ahor_fin_ult1</th>\n",
       "      <th>ind_aval_fin_ult1</th>\n",
       "      <th>ind_cco_fin_ult1</th>\n",
       "      <th>ind_cder_fin_ult1</th>\n",
       "      <th>ind_cno_fin_ult1</th>\n",
       "      <th>ind_ctju_fin_ult1</th>\n",
       "      <th>ind_ctma_fin_ult1</th>\n",
       "      <th>ind_ctop_fin_ult1</th>\n",
       "      <th>...</th>\n",
       "      <th>cod_prov_6</th>\n",
       "      <th>cod_prov_7</th>\n",
       "      <th>ind_actividad_cliente_0</th>\n",
       "      <th>ind_actividad_cliente_1</th>\n",
       "      <th>segmento_0</th>\n",
       "      <th>segmento_1</th>\n",
       "      <th>segmento_2</th>\n",
       "      <th>segmento_3</th>\n",
       "      <th>conyuemp_missing_0</th>\n",
       "      <th>conyuemp_missing_1</th>\n",
       "    </tr>\n",
       "  </thead>\n",
       "  <tbody>\n",
       "    <tr>\n",
       "      <th>0</th>\n",
       "      <td>51</td>\n",
       "      <td>15</td>\n",
       "      <td>0</td>\n",
       "      <td>0</td>\n",
       "      <td>1</td>\n",
       "      <td>0</td>\n",
       "      <td>0</td>\n",
       "      <td>0</td>\n",
       "      <td>0</td>\n",
       "      <td>0</td>\n",
       "      <td>...</td>\n",
       "      <td>0</td>\n",
       "      <td>1</td>\n",
       "      <td>0</td>\n",
       "      <td>1</td>\n",
       "      <td>1</td>\n",
       "      <td>0</td>\n",
       "      <td>0</td>\n",
       "      <td>0</td>\n",
       "      <td>0</td>\n",
       "      <td>1</td>\n",
       "    </tr>\n",
       "    <tr>\n",
       "      <th>1</th>\n",
       "      <td>56</td>\n",
       "      <td>15</td>\n",
       "      <td>0</td>\n",
       "      <td>0</td>\n",
       "      <td>1</td>\n",
       "      <td>0</td>\n",
       "      <td>0</td>\n",
       "      <td>0</td>\n",
       "      <td>0</td>\n",
       "      <td>0</td>\n",
       "      <td>...</td>\n",
       "      <td>0</td>\n",
       "      <td>0</td>\n",
       "      <td>0</td>\n",
       "      <td>1</td>\n",
       "      <td>0</td>\n",
       "      <td>1</td>\n",
       "      <td>0</td>\n",
       "      <td>0</td>\n",
       "      <td>0</td>\n",
       "      <td>1</td>\n",
       "    </tr>\n",
       "    <tr>\n",
       "      <th>2</th>\n",
       "      <td>21</td>\n",
       "      <td>15</td>\n",
       "      <td>0</td>\n",
       "      <td>0</td>\n",
       "      <td>0</td>\n",
       "      <td>0</td>\n",
       "      <td>0</td>\n",
       "      <td>0</td>\n",
       "      <td>0</td>\n",
       "      <td>0</td>\n",
       "      <td>...</td>\n",
       "      <td>0</td>\n",
       "      <td>0</td>\n",
       "      <td>1</td>\n",
       "      <td>0</td>\n",
       "      <td>0</td>\n",
       "      <td>0</td>\n",
       "      <td>1</td>\n",
       "      <td>0</td>\n",
       "      <td>0</td>\n",
       "      <td>1</td>\n",
       "    </tr>\n",
       "    <tr>\n",
       "      <th>3</th>\n",
       "      <td>21</td>\n",
       "      <td>15</td>\n",
       "      <td>0</td>\n",
       "      <td>0</td>\n",
       "      <td>0</td>\n",
       "      <td>0</td>\n",
       "      <td>0</td>\n",
       "      <td>0</td>\n",
       "      <td>0</td>\n",
       "      <td>0</td>\n",
       "      <td>...</td>\n",
       "      <td>0</td>\n",
       "      <td>1</td>\n",
       "      <td>1</td>\n",
       "      <td>0</td>\n",
       "      <td>0</td>\n",
       "      <td>0</td>\n",
       "      <td>1</td>\n",
       "      <td>0</td>\n",
       "      <td>0</td>\n",
       "      <td>1</td>\n",
       "    </tr>\n",
       "    <tr>\n",
       "      <th>4</th>\n",
       "      <td>41</td>\n",
       "      <td>15</td>\n",
       "      <td>0</td>\n",
       "      <td>0</td>\n",
       "      <td>1</td>\n",
       "      <td>0</td>\n",
       "      <td>0</td>\n",
       "      <td>0</td>\n",
       "      <td>0</td>\n",
       "      <td>0</td>\n",
       "      <td>...</td>\n",
       "      <td>0</td>\n",
       "      <td>0</td>\n",
       "      <td>0</td>\n",
       "      <td>1</td>\n",
       "      <td>1</td>\n",
       "      <td>0</td>\n",
       "      <td>0</td>\n",
       "      <td>0</td>\n",
       "      <td>0</td>\n",
       "      <td>1</td>\n",
       "    </tr>\n",
       "  </tbody>\n",
       "</table>\n",
       "<p>5 rows × 75 columns</p>\n",
       "</div>"
      ],
      "text/plain": [
       "   age  antiguedad  ind_ahor_fin_ult1  ind_aval_fin_ult1  ind_cco_fin_ult1  \\\n",
       "0   51          15                  0                  0                 1   \n",
       "1   56          15                  0                  0                 1   \n",
       "2   21          15                  0                  0                 0   \n",
       "3   21          15                  0                  0                 0   \n",
       "4   41          15                  0                  0                 1   \n",
       "\n",
       "   ind_cder_fin_ult1  ind_cno_fin_ult1  ind_ctju_fin_ult1  ind_ctma_fin_ult1  \\\n",
       "0                  0                 0                  0                  0   \n",
       "1                  0                 0                  0                  0   \n",
       "2                  0                 0                  0                  0   \n",
       "3                  0                 0                  0                  0   \n",
       "4                  0                 0                  0                  0   \n",
       "\n",
       "   ind_ctop_fin_ult1         ...          cod_prov_6  cod_prov_7  \\\n",
       "0                  0         ...                   0           1   \n",
       "1                  0         ...                   0           0   \n",
       "2                  0         ...                   0           0   \n",
       "3                  0         ...                   0           1   \n",
       "4                  0         ...                   0           0   \n",
       "\n",
       "   ind_actividad_cliente_0  ind_actividad_cliente_1  segmento_0  segmento_1  \\\n",
       "0                        0                        1           1           0   \n",
       "1                        0                        1           0           1   \n",
       "2                        1                        0           0           0   \n",
       "3                        1                        0           0           0   \n",
       "4                        0                        1           1           0   \n",
       "\n",
       "   segmento_2  segmento_3  conyuemp_missing_0  conyuemp_missing_1  \n",
       "0           0           0                   0                   1  \n",
       "1           0           0                   0                   1  \n",
       "2           1           0                   0                   1  \n",
       "3           1           0                   0                   1  \n",
       "4           0           0                   0                   1  \n",
       "\n",
       "[5 rows x 75 columns]"
      ]
     },
     "execution_count": 70,
     "metadata": {},
     "output_type": "execute_result"
    }
   ],
   "source": [
    "train.head()"
   ]
  },
  {
   "cell_type": "code",
   "execution_count": 71,
   "metadata": {
    "collapsed": true
   },
   "outputs": [],
   "source": [
    "train.to_csv('../data/train_modified.csv',index=False)\n",
    "test.to_csv('../data/test_modified.csv',index=False)"
   ]
  },
  {
   "cell_type": "code",
   "execution_count": null,
   "metadata": {
    "collapsed": true
   },
   "outputs": [],
   "source": []
  }
 ],
 "metadata": {
  "kernelspec": {
   "display_name": "Python 2",
   "language": "python",
   "name": "python2"
  },
  "language_info": {
   "codemirror_mode": {
    "name": "ipython",
    "version": 2
   },
   "file_extension": ".py",
   "mimetype": "text/x-python",
   "name": "python",
   "nbconvert_exporter": "python",
   "pygments_lexer": "ipython2",
   "version": "2.7.10"
  }
 },
 "nbformat": 4,
 "nbformat_minor": 0
}
